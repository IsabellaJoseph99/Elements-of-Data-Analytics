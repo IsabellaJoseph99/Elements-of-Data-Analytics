{
 "cells": [
  {
   "cell_type": "markdown",
   "metadata": {},
   "source": [
    "## C S 329E HW 5\n",
    "\n",
    "# Crossvalidation and hyperparameter selection\n",
    "\n",
    "## Srijeeta Biswas, Isabella Joseph\n",
    "\n",
    "For this week's homework we are going to explore the cross validation testing methodology and applying that to get error estimates on the two algorithms we've used so far:\n",
    "  - Linear Regression\n",
    "  - Decision Tree classification\n",
    "  "
   ]
  },
  {
   "cell_type": "code",
   "execution_count": 1,
   "metadata": {},
   "outputs": [],
   "source": [
    "# import the libraries! If you want to add things here for visualization, please do, \n",
    "# but only use sklearn when prompted\n",
    "import pandas as pd\n",
    "import numpy as np\n",
    "from sklearn import tree \n",
    "from sklearn.datasets import load_iris\n",
    "from sklearn.datasets import load_diabetes\n",
    "import sklearn\n",
    "from sklearn.metrics import mean_absolute_error"
   ]
  },
  {
   "cell_type": "code",
   "execution_count": 2,
   "metadata": {},
   "outputs": [
    {
     "name": "stdout",
     "output_type": "stream",
     "text": [
      "Requirement already up-to-date: pip in /Users/srijeetabiswas/opt/anaconda3/lib/python3.7/site-packages (20.2.3)\r\n"
     ]
    }
   ],
   "source": [
    "!pip install --upgrade pip"
   ]
  },
  {
   "cell_type": "code",
   "execution_count": 3,
   "metadata": {},
   "outputs": [
    {
     "name": "stdout",
     "output_type": "stream",
     "text": [
      "Requirement already up-to-date: sklearn in /Users/srijeetabiswas/opt/anaconda3/lib/python3.7/site-packages (0.0)\r\n",
      "Requirement already satisfied, skipping upgrade: scikit-learn in /Users/srijeetabiswas/opt/anaconda3/lib/python3.7/site-packages (from sklearn) (0.21.3)\r\n",
      "Requirement already satisfied, skipping upgrade: scipy>=0.17.0 in /Users/srijeetabiswas/.local/lib/python3.7/site-packages (from scikit-learn->sklearn) (1.4.1)\r\n",
      "Requirement already satisfied, skipping upgrade: joblib>=0.11 in /Users/srijeetabiswas/opt/anaconda3/lib/python3.7/site-packages (from scikit-learn->sklearn) (0.13.2)\r\n",
      "Requirement already satisfied, skipping upgrade: numpy>=1.11.0 in /Users/srijeetabiswas/opt/anaconda3/lib/python3.7/site-packages (from scikit-learn->sklearn) (1.17.2)\r\n"
     ]
    }
   ],
   "source": [
    "!pip install --upgrade sklearn"
   ]
  },
  {
   "cell_type": "markdown",
   "metadata": {},
   "source": [
    "# Part 1 - Calculate Generalized Error on Linear Regression with k-fold Cross Validation"
   ]
  },
  {
   "cell_type": "markdown",
   "metadata": {},
   "source": [
    "## Q1.1 Load in the diabetes data set as a pandas dataframe and series.  \n",
    "Documentation is [here](https://scikit-learn.org/stable/modules/generated/sklearn.datasets.load_diabetes.html).  Name your features dataframe (the independent variables) `df_X` and your target (the dependent variable) series `s_y`"
   ]
  },
  {
   "cell_type": "code",
   "execution_count": 4,
   "metadata": {},
   "outputs": [],
   "source": [
    "input_data =sklearn.datasets.load_diabetes()\n",
    "x = input_data['data']\n",
    "y = input_data['target']\n",
    "features = input_data['feature_names']\n",
    "\n",
    "df_X = pd.DataFrame(x, columns = features)\n",
    "# print(input_data)\n",
    "s_y = pd.DataFrame(y, columns = ['target'])\n",
    "a = int(len(df_X)/5)\n"
   ]
  },
  {
   "cell_type": "markdown",
   "metadata": {},
   "source": [
    "## Q1.2 Define a function that creates a linear least squares regression model \n",
    "This function should take in two parameters, `df_X`, and `s_y` and return the least squares regression model, $\\hat{\\beta}$ (using the notation from the ESLII book chapter 3 and HW2).  You can not use any libraries outside of pandas and numpy. "
   ]
  },
  {
   "cell_type": "code",
   "execution_count": 5,
   "metadata": {},
   "outputs": [],
   "source": [
    "def get_linear_regression_model( df_X, s_y ):\n",
    "    df_X['constant'] = np.ones((df_X.shape[0]))\n",
    "    beta = np.linalg.lstsq(df_X, s_y)\n",
    "    return(beta)\n"
   ]
  },
  {
   "cell_type": "markdown",
   "metadata": {},
   "source": [
    "## Q1.3 Define a function that partitions the dataframe and series data into dictionaries\n",
    "This function should take in three parameters, `df_X`, `s_y`, and `k`, and returns a tuple of two dictionaries.\n",
    "In both dictionaries the key is the `k` value (an integer from one to `k` inclusive).\n",
    "The first dictionary will have the dataframe of the training data that contains approximately $\\frac{1}{k}$ of the data (variation due to randomness is acceptable).\n",
    "The second dictionary will have the series of the target data that contains approximately $\\frac{1}{k}$ of the data (variation due to randomness is acceptable). Please note the targets _must match_ the same rows as the dataframe at this index, e.g, the length of the kth partition is the same for the dataframe and series.\n",
    "\n",
    "Call that function with $k=5$ and create the dictionaries `dict_k_df_X` and `dict_k_s_y`. Print out the number of rows in each fold.  Check that the number of data points in each partition totals the number of data points in the entire dataset. "
   ]
  },
  {
   "cell_type": "code",
   "execution_count": 6,
   "metadata": {},
   "outputs": [],
   "source": [
    "def partition_data( df_X, s_y, k ):\n",
    "    dict_df_X = {}\n",
    "    dict_s_y = {}\n",
    "    k_frac = 1/k\n",
    "    rows_X = len(df_X)\n",
    "    section_X = int(rows_X*k_frac)\n",
    "    rows_y = len(s_y)\n",
    "    section_y = int(rows_y*k_frac)\n",
    "    start_X = 0\n",
    "    start_y = 0\n",
    "    \n",
    "\n",
    "    \n",
    "    df_X = df_X.reset_index(drop = True)\n",
    "    s_y = s_y.reset_index(drop = True)\n",
    "    \n",
    "    new_df = pd.concat([df_X,s_y],axis = 1)\n",
    "    df_shuffling = new_df.sample(frac=1)\n",
    "\n",
    "\n",
    "    s_y_shuffling = df_shuffling['target']\n",
    "    df_X_shuffling = df_shuffling.drop(df_shuffling.columns[-1],axis=1)\n",
    "    \n",
    "    for i in range(1,k+1,1):\n",
    "\n",
    "    \n",
    "        end_X = i*section_X\n",
    "        end_y = i*section_y\n",
    "        dict_df_X[i] = df_X_shuffling.iloc[start_X:end_X]\n",
    "        dict_s_y[i] = s_y_shuffling.iloc[start_y:end_y]\n",
    "        start_X = end_X\n",
    "        start_y = end_y\n",
    "    return(dict_df_X, dict_s_y)"
   ]
  },
  {
   "cell_type": "code",
   "execution_count": 7,
   "metadata": {},
   "outputs": [],
   "source": [
    "(dict_k_df_X, dict_k_s_y) = partition_data( df_X, s_y, 5 )\n"
   ]
  },
  {
   "cell_type": "markdown",
   "metadata": {},
   "source": [
    "## Q1.4 Define a function that calculates a regression metric\n",
    "This function should accept two series of equal length $n$ numpy arrays, `s_y`, and `s_y_hat`. The metric it should calculate is the mean absolute error, $MAE = \\sum\\limits_{i=1}^n\\frac{|{s\\_y_i - {s\\_y\\_hat}_i}|}{n}$ \n",
    "\n",
    "Test your function by using the vectors:\n",
    "```\n",
    "x = np.array([1,2,3])\n",
    "y = np.array([2,2,3])\n",
    "```\n"
   ]
  },
  {
   "cell_type": "code",
   "execution_count": 8,
   "metadata": {},
   "outputs": [],
   "source": [
    "from sklearn.metrics import mean_absolute_error"
   ]
  },
  {
   "cell_type": "code",
   "execution_count": 9,
   "metadata": {},
   "outputs": [],
   "source": [
    "## can we use sklearn \n",
    "# if we cannot- use for loop \n",
    "\n",
    "def get_mae( s_y, s_y_hat):\n",
    "    result = mean_absolute_error(s_y, s_y_hat)\n",
    "    return(result)"
   ]
  },
  {
   "cell_type": "code",
   "execution_count": 10,
   "metadata": {},
   "outputs": [
    {
     "data": {
      "text/plain": [
       "0.3333333333333333"
      ]
     },
     "execution_count": 10,
     "metadata": {},
     "output_type": "execute_result"
    }
   ],
   "source": [
    "# Test it \n",
    "x = np.array([1,2,3])\n",
    "y = np.array([2,2,3])\n",
    "get_mae(x,y)"
   ]
  },
  {
   "cell_type": "markdown",
   "metadata": {},
   "source": [
    "## Q1.5 Calculate the $MAE$ for each fold\n",
    "For each fold in your dictionaries, calculate the $MAE$.  Use the partition number key as the test set, and all other partitions as the train set. \n",
    "\n",
    "Print the min, max, and mean $MAE$ of your 5 folds. "
   ]
  },
  {
   "cell_type": "code",
   "execution_count": 11,
   "metadata": {},
   "outputs": [
    {
     "name": "stdout",
     "output_type": "stream",
     "text": [
      "Min MAE: 37.58963477044445\n",
      "Max MAE: 44.72357034203996\n",
      "Mean MAE: 41.29246577147571\n"
     ]
    },
    {
     "name": "stderr",
     "output_type": "stream",
     "text": [
      "/Users/srijeetabiswas/opt/anaconda3/lib/python3.7/site-packages/ipykernel_launcher.py:3: FutureWarning: `rcond` parameter will change to the default of machine precision times ``max(M, N)`` where M and N are the input matrix dimensions.\n",
      "To use the future default and silence this warning we advise to pass `rcond=None`, to keep using the old, explicitly pass `rcond=-1`.\n",
      "  This is separate from the ipykernel package so we can avoid doing imports until\n",
      "/Users/srijeetabiswas/opt/anaconda3/lib/python3.7/site-packages/ipykernel_launcher.py:3: FutureWarning: `rcond` parameter will change to the default of machine precision times ``max(M, N)`` where M and N are the input matrix dimensions.\n",
      "To use the future default and silence this warning we advise to pass `rcond=None`, to keep using the old, explicitly pass `rcond=-1`.\n",
      "  This is separate from the ipykernel package so we can avoid doing imports until\n",
      "/Users/srijeetabiswas/opt/anaconda3/lib/python3.7/site-packages/ipykernel_launcher.py:3: FutureWarning: `rcond` parameter will change to the default of machine precision times ``max(M, N)`` where M and N are the input matrix dimensions.\n",
      "To use the future default and silence this warning we advise to pass `rcond=None`, to keep using the old, explicitly pass `rcond=-1`.\n",
      "  This is separate from the ipykernel package so we can avoid doing imports until\n",
      "/Users/srijeetabiswas/opt/anaconda3/lib/python3.7/site-packages/ipykernel_launcher.py:3: FutureWarning: `rcond` parameter will change to the default of machine precision times ``max(M, N)`` where M and N are the input matrix dimensions.\n",
      "To use the future default and silence this warning we advise to pass `rcond=None`, to keep using the old, explicitly pass `rcond=-1`.\n",
      "  This is separate from the ipykernel package so we can avoid doing imports until\n",
      "/Users/srijeetabiswas/opt/anaconda3/lib/python3.7/site-packages/ipykernel_launcher.py:3: FutureWarning: `rcond` parameter will change to the default of machine precision times ``max(M, N)`` where M and N are the input matrix dimensions.\n",
      "To use the future default and silence this warning we advise to pass `rcond=None`, to keep using the old, explicitly pass `rcond=-1`.\n",
      "  This is separate from the ipykernel package so we can avoid doing imports until\n"
     ]
    }
   ],
   "source": [
    "mae = np.array([])\n",
    "for k in dict_k_df_X.keys():\n",
    "    # iterating through the folds\n",
    "    df_X = dict_k_df_X[k]\n",
    "    s_y = dict_k_s_y[k]\n",
    "    # getting beta for each fold\n",
    "    \n",
    "#     print(len(df_X))\n",
    "#     print(len(s_y))\n",
    "    \n",
    "    beta = get_linear_regression_model(df_X, s_y)\n",
    "    beta = beta[0]\n",
    "    df_X = np.array(df_X)\n",
    "    \n",
    "    # predicted y\n",
    "    s_y_hat = np.matmul(df_X, beta)\n",
    "    \n",
    "    # computing the error \n",
    "    mae = np.append( mae, get_mae(s_y,s_y_hat) )\n",
    "\n",
    "print('Min MAE: ' + str(min(mae)))\n",
    "print('Max MAE: ' + str(max(mae)))\n",
    "print('Mean MAE: ' + str(np.mean(mae)))"
   ]
  },
  {
   "cell_type": "markdown",
   "metadata": {},
   "source": [
    "# Part 2 - Find the best hyperparameter to use in a Decision Tree "
   ]
  },
  {
   "cell_type": "markdown",
   "metadata": {},
   "source": [
    "## Q2.1 Load the iris data in as a pandas dataframe and a series\n",
    "Documentation is [here](https://scikit-learn.org/stable/modules/generated/sklearn.datasets.load_iris.html). Name your features dataframe (the independent variables) `df_X` and your classification target (the dependent variable) series `s_y`"
   ]
  },
  {
   "cell_type": "code",
   "execution_count": 12,
   "metadata": {},
   "outputs": [],
   "source": [
    "in_data = sklearn.datasets.load_iris()\n",
    "x2 = in_data['data']\n",
    "y2 = in_data['target']\n",
    "features2 = in_data['feature_names']\n",
    "\n",
    "df_X = pd.DataFrame(x2, columns = features2)\n",
    "s_y = pd.DataFrame(y2, columns = ['target'])\n"
   ]
  },
  {
   "cell_type": "markdown",
   "metadata": {},
   "source": [
    "## Q2.2 Partition `df_X` and `s_y` into $5$ partitions of roughly equal size\n",
    "Make 2 dictionaries, with the key of each dictionary the fold number.  The value of the dictionary `dict_k_df_X` is the $k^{th}$ partition of the data, and the value of the dictionary `dict_k_s_y` is the corresponding $k^{th}$ target classification.  Print out the number of rows in each fold.  Check that the number of data points in each partition totals the number of data points in the entire dataset. "
   ]
  },
  {
   "cell_type": "code",
   "execution_count": 13,
   "metadata": {},
   "outputs": [
    {
     "name": "stdout",
     "output_type": "stream",
     "text": [
      "number of rows in df_X: 30\n",
      "number of rows in s_y: 30\n",
      "\n",
      "number of rows in df_X: 30\n",
      "number of rows in s_y: 30\n",
      "\n",
      "number of rows in df_X: 30\n",
      "number of rows in s_y: 30\n",
      "\n",
      "number of rows in df_X: 30\n",
      "number of rows in s_y: 30\n",
      "\n",
      "number of rows in df_X: 30\n",
      "number of rows in s_y: 30\n",
      "\n",
      "Total sum for df_X and s_y: 150\n"
     ]
    }
   ],
   "source": [
    "rows = len(df_X)\n",
    "# print(df_X)\n",
    "dict_k_df_X, dict_k_s_y = partition_data(df_X, s_y, 5)\n",
    "total = 0\n",
    "# print(s_y)\n",
    "for key in dict_k_df_X:\n",
    "    total+=  len(dict_k_df_X[key])\n",
    "    print(\"number of rows in df_X: \"+ str(len(dict_k_df_X[key])))\n",
    "    print(\"number of rows in s_y: \"+ str(len(dict_k_s_y[key])))\n",
    "    print()\n",
    "print(\"Total sum for df_X and s_y: \"+ str(total))"
   ]
  },
  {
   "cell_type": "markdown",
   "metadata": {},
   "source": [
    "## Q2.3 Define a function that calculates accuracy\n",
    "The function should accept two series and compare each element for equality.  The accuracy is the number of equal elements divided by the total number of elements.\n",
    "\n",
    "Test your accuracy function by calling it with the `s_y` loaded from the iris data set and an array of the same length containing all $1$ values. "
   ]
  },
  {
   "cell_type": "code",
   "execution_count": 14,
   "metadata": {},
   "outputs": [],
   "source": [
    "def get_acc( s_1, s_2 ):\n",
    "    correct= 0\n",
    "    total = len(s_1)\n",
    "    for r in range(total):\n",
    "        if isinstance(s_1, pd.Series):\n",
    "            if s_1.iloc[r] == s_2[r]:\n",
    "                correct += 1\n",
    "        else:\n",
    "            if s_1.iloc[r][0] == s_2[r]:\n",
    "                correct += 1\n",
    "    return(correct/total)"
   ]
  },
  {
   "cell_type": "code",
   "execution_count": 15,
   "metadata": {},
   "outputs": [
    {
     "data": {
      "text/plain": [
       "0.3333333333333333"
      ]
     },
     "execution_count": 15,
     "metadata": {},
     "output_type": "execute_result"
    }
   ],
   "source": [
    "get_acc(s_y,np.ones(len(s_y)))"
   ]
  },
  {
   "cell_type": "markdown",
   "metadata": {},
   "source": [
    "## Q2.4 Using Nested Cross validation, find the best hyperparameter\n",
    "Use the [Decision Tree Classifier](https://scikit-learn.org/stable/modules/tree.html#classification) class to build a decision tree inside of a 5-fold cross validation loop.  The partitions you already created in 2.2 will be the outer loop.  In the inside loop you should use 4-fold cross validation (so you don't have to partition _again_) to find the best value for `min_impurity_decrease`.  Use the Gini Index as your impurity measure. \n",
    "    Calculate the mean accuracy across the 4 folds of your inner loop for all the candidate `min_impurity_decrease` values, and print the value.  Use the array `np.array([0.1,0.25,0.3,0.4])` as the candidates for the best hyperparameter. If there is a tie (two `min_impurity_decrease` values give the same highest accuracy), choose the lowest `min_impurity_decrease` value. \n",
    "\n",
    "For each inner loop, select the best `min_impurity_decrease` and train the outer fold training data on using that value. \n",
    "\n",
    "For each inner loop, your output should look something like this:\n",
    "```\n",
    "Testing 0.10 min impurity decrease\n",
    "\tAverage accuracy over 4 folds is 0.95\n",
    "Testing 0.25 min impurity decrease\n",
    "\tAverage accuracy over 4 folds is 0.86\n",
    "Testing 0.30 min impurity decrease\n",
    "\tAverage accuracy over 4 folds is 0.63\n",
    "Testing 0.40 min impurity decrease\n",
    "\tAverage accuracy over 4 folds is 0.27\n",
    "\n",
    "Best min impurity decrease is 0.1\n",
    "\n",
    "```"
   ]
  },
  {
   "cell_type": "code",
   "execution_count": 16,
   "metadata": {},
   "outputs": [],
   "source": [
    "from copy import deepcopy"
   ]
  },
  {
   "cell_type": "code",
   "execution_count": 17,
   "metadata": {},
   "outputs": [
    {
     "name": "stdout",
     "output_type": "stream",
     "text": [
      "Testing 0.1 min impurity decrease\n",
      "\tAverage accuracy over 4 folds is 0.93\n",
      "Testing 0.25 min impurity decrease\n",
      "\tAverage accuracy over 4 folds is 0.93\n",
      "Testing 0.3 min impurity decrease\n",
      "\tAverage accuracy over 4 folds is 0.63\n",
      "Testing 0.4 min impurity decrease\n",
      "\tAverage accuracy over 4 folds is 0.23\n",
      "\n",
      "Best min impurity decrease is 0.1\n",
      "\n",
      "\n",
      "Testing 0.1 min impurity decrease\n",
      "\tAverage accuracy over 4 folds is 0.97\n",
      "Testing 0.25 min impurity decrease\n",
      "\tAverage accuracy over 4 folds is 0.75\n",
      "Testing 0.3 min impurity decrease\n",
      "\tAverage accuracy over 4 folds is 0.6\n",
      "Testing 0.4 min impurity decrease\n",
      "\tAverage accuracy over 4 folds is 0.23\n",
      "\n",
      "Best min impurity decrease is 0.1\n",
      "\n",
      "\n",
      "Testing 0.1 min impurity decrease\n",
      "\tAverage accuracy over 4 folds is 0.94\n",
      "Testing 0.25 min impurity decrease\n",
      "\tAverage accuracy over 4 folds is 0.8\n",
      "Testing 0.3 min impurity decrease\n",
      "\tAverage accuracy over 4 folds is 0.6\n",
      "Testing 0.4 min impurity decrease\n",
      "\tAverage accuracy over 4 folds is 0.24\n",
      "\n",
      "Best min impurity decrease is 0.1\n",
      "\n",
      "\n",
      "Testing 0.1 min impurity decrease\n",
      "\tAverage accuracy over 4 folds is 0.93\n",
      "Testing 0.25 min impurity decrease\n",
      "\tAverage accuracy over 4 folds is 0.82\n",
      "Testing 0.3 min impurity decrease\n",
      "\tAverage accuracy over 4 folds is 0.61\n",
      "Testing 0.4 min impurity decrease\n",
      "\tAverage accuracy over 4 folds is 0.26\n",
      "\n",
      "Best min impurity decrease is 0.1\n",
      "\n",
      "\n",
      "Testing 0.1 min impurity decrease\n",
      "\tAverage accuracy over 4 folds is 0.94\n",
      "Testing 0.25 min impurity decrease\n",
      "\tAverage accuracy over 4 folds is 0.85\n",
      "Testing 0.3 min impurity decrease\n",
      "\tAverage accuracy over 4 folds is 0.6\n",
      "Testing 0.4 min impurity decrease\n",
      "\tAverage accuracy over 4 folds is 0.25\n",
      "\n",
      "Best min impurity decrease is 0.1\n",
      "\n",
      "\n"
     ]
    }
   ],
   "source": [
    "\n",
    "possible_min_impurity_decrease = np.array([0.1,0.25,0.3,0.4])\n",
    "dict_k_df_X_inner = deepcopy(dict_k_df_X)\n",
    "dict_k_s_y_inner = deepcopy(dict_k_s_y)\n",
    "accuracy = {}\n",
    "# Outer loop\n",
    "outer_acc = []\n",
    "\n",
    "for final in possible_min_impurity_decrease:\n",
    "    accuracy[final] = []\n",
    "\n",
    "for k in dict_k_df_X.keys():\n",
    "    test_set_X = dict_k_df_X[k]\n",
    "    test_set_Y = dict_k_s_y[k]\n",
    "    \n",
    "        \n",
    "    del dict_k_df_X_inner[k]\n",
    "    del dict_k_s_y_inner[k]\n",
    "    \n",
    "    \n",
    "    x_training = pd.DataFrame()\n",
    "    y_training = pd.DataFrame()\n",
    "    \n",
    "    for element in dict_k_df_X_inner.keys():\n",
    "        x_training = pd.concat([x_training, dict_k_df_X_inner[element]],axis=0)\n",
    "        y_training = pd.concat([y_training, dict_k_s_y_inner[element]],axis=0)\n",
    "\n",
    "    for pos_min_impurity in possible_min_impurity_decrease:\n",
    "        \n",
    "        \n",
    "        \n",
    "        for j in dict_k_df_X.keys():\n",
    "            if j == k:\n",
    "                train2_x = pd.DataFrame()\n",
    "                train2_y = pd.DataFrame()\n",
    "                \n",
    "                test2_x = dict_k_df_X[j]\n",
    "                test2_y = dict_k_s_y[j]\n",
    "                \n",
    "                for element in range(1, len(dict_k_df_X) + 1):\n",
    "                    if element != j and element != k:\n",
    "                        train2_x = pd.concat([train2_x, dict_k_df_X[element]], axis = 0)\n",
    "                        train2_y = pd.concat([train2_y, dict_k_s_y[element]], axis = 0)\n",
    "                        \n",
    "\n",
    "                clf = tree.DecisionTreeClassifier(criterion = 'gini', min_impurity_decrease= pos_min_impurity)\n",
    "                clf.fit(train2_x, train2_y)\n",
    "                \n",
    "                \n",
    "                predicted_y = clf.predict(test2_x)\n",
    "\n",
    "\n",
    "                inner_acc = get_acc(test2_y,predicted_y)\n",
    "                accuracy[pos_min_impurity].append(inner_acc)\n",
    "    dict_k_df_X_inner[k] = dict_k_df_X[k]\n",
    "    dict_k_s_y_inner[k] = dict_k_s_y[k]\n",
    "\n",
    "                \n",
    "    all_avg = {}\n",
    "    for pos_min_impurity in possible_min_impurity_decrease:\n",
    "        all_avg[pos_min_impurity] = (sum(accuracy[pos_min_impurity]))/len(accuracy[pos_min_impurity])\n",
    "        print('Testing '+ str(pos_min_impurity) + ' min impurity decrease')\n",
    "        print('\\tAverage accuracy over 4 folds is '+str((round(all_avg[pos_min_impurity],2))))\n",
    "    print()\n",
    " \n",
    "    \n",
    "    \n",
    "    max_score = max(all_avg.values())\n",
    "    final_hyperparameter_list = []\n",
    "    for keyss in all_avg:\n",
    "        if all_avg[keyss] == max_score:\n",
    "            final_hyperparameter_list.append(keyss)\n",
    "    final_hyperparameter = min(final_hyperparameter_list)\n",
    "    \n",
    "    print('Best min impurity decrease is ' + str(final_hyperparameter))\n",
    "    print()\n",
    "    print()\n",
    "    clf_outer = tree.DecisionTreeClassifier(criterion = 'gini', min_impurity_decrease= final_hyperparameter)\n",
    "    clf_outer.fit(x_training, y_training)\n",
    "    \n",
    "    \n",
    "    outer_pred = clf_outer.predict(test_set_X)\n",
    "    \n",
    "    outer_accuracy = get_acc(test_set_Y, outer_pred)\n",
    "    \n",
    "    \n",
    "    outer_acc.append(outer_accuracy)\n",
    "\n",
    "\n",
    "\n",
    "\n",
    "\n",
    "\n",
    "\n",
    "\n",
    "\n"
   ]
  },
  {
   "cell_type": "markdown",
   "metadata": {},
   "source": [
    "## Q2.5 Show the generalized performance of the classifier \n",
    "Show the generalized performance of the classifier by printing the min, max, and mean accuracy of the outer fold test sets."
   ]
  },
  {
   "cell_type": "code",
   "execution_count": 18,
   "metadata": {},
   "outputs": [
    {
     "name": "stdout",
     "output_type": "stream",
     "text": [
      "Min accuracy of outer fold test sets: 0.9\n",
      "Max accuracy of outer fold test sets: 1.0\n",
      "Mean accuracy of outer fold test sets: 0.94\n"
     ]
    }
   ],
   "source": [
    "minimum = round(min(outer_acc),2)\n",
    "maximum = round(max(outer_acc),2)\n",
    "average = round(np.mean(outer_acc),2)\n",
    "print('Min accuracy of outer fold test sets: '+ str(minimum))\n",
    "print('Max accuracy of outer fold test sets: ' + str(maximum))\n",
    "print('Mean accuracy of outer fold test sets: ' + str(average))"
   ]
  },
  {
   "cell_type": "code",
   "execution_count": null,
   "metadata": {},
   "outputs": [],
   "source": []
  },
  {
   "cell_type": "code",
   "execution_count": null,
   "metadata": {},
   "outputs": [],
   "source": []
  }
 ],
 "metadata": {
  "kernelspec": {
   "display_name": "Python 3",
   "language": "python",
   "name": "python3"
  },
  "language_info": {
   "codemirror_mode": {
    "name": "ipython",
    "version": 3
   },
   "file_extension": ".py",
   "mimetype": "text/x-python",
   "name": "python",
   "nbconvert_exporter": "python",
   "pygments_lexer": "ipython3",
   "version": "3.8.3"
  }
 },
 "nbformat": 4,
 "nbformat_minor": 4
}
