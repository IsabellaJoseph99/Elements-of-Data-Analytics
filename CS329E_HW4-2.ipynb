{
 "cells": [
  {
   "cell_type": "markdown",
   "metadata": {},
   "source": [
    "### C S 329E HW 4\n",
    "\n",
    "## Decision Tree Classifier\n",
    "\n",
    "## Srijeeta Biswas and Isabella Joseph\n",
    "\n",
    "For this weeks homework we are going to explore ideas around decision tree implementation!  \n",
    "\n",
    "We will implement some helper functions that would be necessary for a home-grown tree:\n",
    "  - calc_entropy\n",
    "  - calc_gini\n",
    "  \n",
    "and them test them out at given data splits. \n",
    "  \n",
    "And finally, to perform predictive and descriptive analytics we use the [Decision Tree Classifier](https://scikit-learn.org/stable/modules/tree.html#classification) class.\n",
    "\n",
    "  \n",
    "For this assignment, the stopping condition will be the depth of the tree. The impurity measure can be either `Entropy` or `Gini`\n",
    "\n",
    "To test our tree built from the Decision Tree Classifier class, we will revisit our Melbourne housing data (that has been cleaned and pruned) and use the files:\n",
    "\n",
    "   - `melb_tree_train.csv` for training the decision tree\n",
    "   - `melb_tree_test.csv` for testing the decision tree\n",
    "\n",
    "There are 10 features in these dataframes that we can use to describe and predict the housing \"Type\", which is 'h' house, 'u' duplex, or 't' townhome. "
   ]
  },
  {
   "cell_type": "code",
   "execution_count": 8,
   "metadata": {},
   "outputs": [
    {
     "name": "stdout",
     "output_type": "stream",
     "text": [
      "Requirement already satisfied: jupyter in c:\\users\\isabe\\anaconda\\lib\\site-packages (from -r requirements.txt (line 1)) (1.0.0)\n",
      "Requirement already satisfied: pandas in c:\\users\\isabe\\anaconda\\lib\\site-packages (from -r requirements.txt (line 2)) (1.0.5)\n",
      "Requirement already satisfied: matplotlib in c:\\users\\isabe\\anaconda\\lib\\site-packages (from -r requirements.txt (line 3)) (3.2.2)\n",
      "Requirement already satisfied: graphviz in c:\\users\\isabe\\anaconda\\lib\\site-packages (from -r requirements.txt (line 4)) (0.14.1)\n",
      "Requirement already satisfied: ipykernel in c:\\users\\isabe\\anaconda\\lib\\site-packages (from jupyter->-r requirements.txt (line 1)) (5.3.2)\n",
      "Requirement already satisfied: jupyter-console in c:\\users\\isabe\\anaconda\\lib\\site-packages (from jupyter->-r requirements.txt (line 1)) (6.1.0)\n",
      "Requirement already satisfied: qtconsole in c:\\users\\isabe\\anaconda\\lib\\site-packages (from jupyter->-r requirements.txt (line 1)) (4.7.5)\n",
      "Requirement already satisfied: notebook in c:\\users\\isabe\\anaconda\\lib\\site-packages (from jupyter->-r requirements.txt (line 1)) (6.0.3)\n",
      "Requirement already satisfied: ipywidgets in c:\\users\\isabe\\anaconda\\lib\\site-packages (from jupyter->-r requirements.txt (line 1)) (7.5.1)\n",
      "Requirement already satisfied: nbconvert in c:\\users\\isabe\\anaconda\\lib\\site-packages (from jupyter->-r requirements.txt (line 1)) (5.6.1)\n",
      "Requirement already satisfied: python-dateutil>=2.6.1 in c:\\users\\isabe\\anaconda\\lib\\site-packages (from pandas->-r requirements.txt (line 2)) (2.8.1)\n",
      "Requirement already satisfied: pytz>=2017.2 in c:\\users\\isabe\\anaconda\\lib\\site-packages (from pandas->-r requirements.txt (line 2)) (2020.1)\n",
      "Requirement already satisfied: numpy>=1.13.3 in c:\\users\\isabe\\anaconda\\lib\\site-packages (from pandas->-r requirements.txt (line 2)) (1.18.5)\n",
      "Requirement already satisfied: kiwisolver>=1.0.1 in c:\\users\\isabe\\anaconda\\lib\\site-packages (from matplotlib->-r requirements.txt (line 3)) (1.2.0)\n",
      "Requirement already satisfied: pyparsing!=2.0.4,!=2.1.2,!=2.1.6,>=2.0.1 in c:\\users\\isabe\\anaconda\\lib\\site-packages (from matplotlib->-r requirements.txt (line 3)) (2.4.7)\n",
      "Requirement already satisfied: cycler>=0.10 in c:\\users\\isabe\\anaconda\\lib\\site-packages (from matplotlib->-r requirements.txt (line 3)) (0.10.0)\n",
      "Requirement already satisfied: ipython>=5.0.0 in c:\\users\\isabe\\anaconda\\lib\\site-packages (from ipykernel->jupyter->-r requirements.txt (line 1)) (7.16.1)\n",
      "Requirement already satisfied: traitlets>=4.1.0 in c:\\users\\isabe\\anaconda\\lib\\site-packages (from ipykernel->jupyter->-r requirements.txt (line 1)) (4.3.3)\n",
      "Requirement already satisfied: jupyter-client in c:\\users\\isabe\\anaconda\\lib\\site-packages (from ipykernel->jupyter->-r requirements.txt (line 1)) (6.1.6)\n",
      "Requirement already satisfied: tornado>=4.2 in c:\\users\\isabe\\anaconda\\lib\\site-packages (from ipykernel->jupyter->-r requirements.txt (line 1)) (6.0.4)\n",
      "Requirement already satisfied: prompt-toolkit!=3.0.0,!=3.0.1,<3.1.0,>=2.0.0 in c:\\users\\isabe\\anaconda\\lib\\site-packages (from jupyter-console->jupyter->-r requirements.txt (line 1)) (3.0.5)\n",
      "Requirement already satisfied: pygments in c:\\users\\isabe\\anaconda\\lib\\site-packages (from jupyter-console->jupyter->-r requirements.txt (line 1)) (2.6.1)\n",
      "Requirement already satisfied: jupyter-core in c:\\users\\isabe\\anaconda\\lib\\site-packages (from qtconsole->jupyter->-r requirements.txt (line 1)) (4.6.3)\n",
      "Requirement already satisfied: pyzmq>=17.1 in c:\\users\\isabe\\anaconda\\lib\\site-packages (from qtconsole->jupyter->-r requirements.txt (line 1)) (19.0.1)\n",
      "Requirement already satisfied: ipython-genutils in c:\\users\\isabe\\anaconda\\lib\\site-packages (from qtconsole->jupyter->-r requirements.txt (line 1)) (0.2.0)\n",
      "Requirement already satisfied: qtpy in c:\\users\\isabe\\anaconda\\lib\\site-packages (from qtconsole->jupyter->-r requirements.txt (line 1)) (1.9.0)\n",
      "Requirement already satisfied: prometheus-client in c:\\users\\isabe\\anaconda\\lib\\site-packages (from notebook->jupyter->-r requirements.txt (line 1)) (0.8.0)\n",
      "Requirement already satisfied: terminado>=0.8.1 in c:\\users\\isabe\\anaconda\\lib\\site-packages (from notebook->jupyter->-r requirements.txt (line 1)) (0.8.3)\n",
      "Requirement already satisfied: nbformat in c:\\users\\isabe\\anaconda\\lib\\site-packages (from notebook->jupyter->-r requirements.txt (line 1)) (5.0.7)\n",
      "Requirement already satisfied: Send2Trash in c:\\users\\isabe\\anaconda\\lib\\site-packages (from notebook->jupyter->-r requirements.txt (line 1)) (1.5.0)\n",
      "Requirement already satisfied: jinja2 in c:\\users\\isabe\\anaconda\\lib\\site-packages (from notebook->jupyter->-r requirements.txt (line 1)) (2.11.2)\n",
      "Requirement already satisfied: widgetsnbextension~=3.5.0 in c:\\users\\isabe\\anaconda\\lib\\site-packages (from ipywidgets->jupyter->-r requirements.txt (line 1)) (3.5.1)\n",
      "Requirement already satisfied: mistune<2,>=0.8.1 in c:\\users\\isabe\\anaconda\\lib\\site-packages (from nbconvert->jupyter->-r requirements.txt (line 1)) (0.8.4)\n",
      "Requirement already satisfied: pandocfilters>=1.4.1 in c:\\users\\isabe\\anaconda\\lib\\site-packages (from nbconvert->jupyter->-r requirements.txt (line 1)) (1.4.2)\n",
      "Requirement already satisfied: bleach in c:\\users\\isabe\\anaconda\\lib\\site-packages (from nbconvert->jupyter->-r requirements.txt (line 1)) (3.1.5)\n",
      "Requirement already satisfied: testpath in c:\\users\\isabe\\anaconda\\lib\\site-packages (from nbconvert->jupyter->-r requirements.txt (line 1)) (0.4.4)\n",
      "Requirement already satisfied: entrypoints>=0.2.2 in c:\\users\\isabe\\anaconda\\lib\\site-packages (from nbconvert->jupyter->-r requirements.txt (line 1)) (0.3)\n",
      "Requirement already satisfied: defusedxml in c:\\users\\isabe\\anaconda\\lib\\site-packages (from nbconvert->jupyter->-r requirements.txt (line 1)) (0.6.0)\n",
      "Requirement already satisfied: six>=1.5 in c:\\users\\isabe\\anaconda\\lib\\site-packages (from python-dateutil>=2.6.1->pandas->-r requirements.txt (line 2)) (1.15.0)\n",
      "Requirement already satisfied: jedi>=0.10 in c:\\users\\isabe\\anaconda\\lib\\site-packages (from ipython>=5.0.0->ipykernel->jupyter->-r requirements.txt (line 1)) (0.17.1)\n",
      "Requirement already satisfied: backcall in c:\\users\\isabe\\anaconda\\lib\\site-packages (from ipython>=5.0.0->ipykernel->jupyter->-r requirements.txt (line 1)) (0.2.0)\n",
      "Requirement already satisfied: setuptools>=18.5 in c:\\users\\isabe\\anaconda\\lib\\site-packages (from ipython>=5.0.0->ipykernel->jupyter->-r requirements.txt (line 1)) (49.2.0.post20200714)\n",
      "Requirement already satisfied: pickleshare in c:\\users\\isabe\\anaconda\\lib\\site-packages (from ipython>=5.0.0->ipykernel->jupyter->-r requirements.txt (line 1)) (0.7.5)\n",
      "Requirement already satisfied: decorator in c:\\users\\isabe\\anaconda\\lib\\site-packages (from ipython>=5.0.0->ipykernel->jupyter->-r requirements.txt (line 1)) (4.4.2)\n",
      "Requirement already satisfied: colorama; sys_platform == \"win32\" in c:\\users\\isabe\\anaconda\\lib\\site-packages (from ipython>=5.0.0->ipykernel->jupyter->-r requirements.txt (line 1)) (0.4.3)\n",
      "Requirement already satisfied: wcwidth in c:\\users\\isabe\\anaconda\\lib\\site-packages (from prompt-toolkit!=3.0.0,!=3.0.1,<3.1.0,>=2.0.0->jupyter-console->jupyter->-r requirements.txt (line 1)) (0.2.5)\n",
      "Requirement already satisfied: pywin32>=1.0; sys_platform == \"win32\" in c:\\users\\isabe\\anaconda\\lib\\site-packages (from jupyter-core->qtconsole->jupyter->-r requirements.txt (line 1)) (227)\n",
      "Requirement already satisfied: jsonschema!=2.5.0,>=2.4 in c:\\users\\isabe\\anaconda\\lib\\site-packages (from nbformat->notebook->jupyter->-r requirements.txt (line 1)) (3.2.0)\n",
      "Requirement already satisfied: MarkupSafe>=0.23 in c:\\users\\isabe\\anaconda\\lib\\site-packages (from jinja2->notebook->jupyter->-r requirements.txt (line 1)) (1.1.1)\n",
      "Requirement already satisfied: webencodings in c:\\users\\isabe\\anaconda\\lib\\site-packages (from bleach->nbconvert->jupyter->-r requirements.txt (line 1)) (0.5.1)\n",
      "Requirement already satisfied: packaging in c:\\users\\isabe\\anaconda\\lib\\site-packages (from bleach->nbconvert->jupyter->-r requirements.txt (line 1)) (20.4)\n",
      "Requirement already satisfied: parso<0.8.0,>=0.7.0 in c:\\users\\isabe\\anaconda\\lib\\site-packages (from jedi>=0.10->ipython>=5.0.0->ipykernel->jupyter->-r requirements.txt (line 1)) (0.7.0)\n",
      "Requirement already satisfied: pyrsistent>=0.14.0 in c:\\users\\isabe\\anaconda\\lib\\site-packages (from jsonschema!=2.5.0,>=2.4->nbformat->notebook->jupyter->-r requirements.txt (line 1)) (0.16.0)\n",
      "Requirement already satisfied: attrs>=17.4.0 in c:\\users\\isabe\\anaconda\\lib\\site-packages (from jsonschema!=2.5.0,>=2.4->nbformat->notebook->jupyter->-r requirements.txt (line 1)) (19.3.0)\n",
      "Note: you may need to restart the kernel to use updated packages.\n"
     ]
    }
   ],
   "source": [
    "pip install -r requirements.txt"
   ]
  },
  {
   "cell_type": "code",
   "execution_count": 9,
   "metadata": {},
   "outputs": [],
   "source": [
    "# import the libraries!\n",
    "import pandas as pd\n",
    "import numpy as np\n",
    "import matplotlib.pyplot as plt\n",
    "%matplotlib inline\n",
    "from math import log2\n",
    "from sklearn import tree # Yes, you get to use scikit-learn this assignment, but only when I say!\n",
    "import graphviz\n",
    "from sklearn.datasets import load_iris"
   ]
  },
  {
   "cell_type": "markdown",
   "metadata": {},
   "source": [
    "## Q1 Load the Data\n",
    "Load in the melb_tree_train.csv into a dataframe, and split that dataframe into `df_X` containing the features of the data set (everything but `Type`), and `s_y`, the series containing just the label column (just `Type`)"
   ]
  },
  {
   "cell_type": "code",
   "execution_count": 10,
   "metadata": {},
   "outputs": [
    {
     "data": {
      "text/html": [
       "<div>\n",
       "<style scoped>\n",
       "    .dataframe tbody tr th:only-of-type {\n",
       "        vertical-align: middle;\n",
       "    }\n",
       "\n",
       "    .dataframe tbody tr th {\n",
       "        vertical-align: top;\n",
       "    }\n",
       "\n",
       "    .dataframe thead th {\n",
       "        text-align: right;\n",
       "    }\n",
       "</style>\n",
       "<table border=\"1\" class=\"dataframe\">\n",
       "  <thead>\n",
       "    <tr style=\"text-align: right;\">\n",
       "      <th></th>\n",
       "      <th>Rooms</th>\n",
       "      <th>Price</th>\n",
       "      <th>Distance</th>\n",
       "      <th>Bedroom2</th>\n",
       "      <th>Bathroom</th>\n",
       "      <th>Car</th>\n",
       "      <th>Landsize</th>\n",
       "      <th>BuildingArea</th>\n",
       "      <th>YearBuilt</th>\n",
       "      <th>CouncilArea</th>\n",
       "    </tr>\n",
       "  </thead>\n",
       "  <tbody>\n",
       "    <tr>\n",
       "      <th>0</th>\n",
       "      <td>2</td>\n",
       "      <td>771000.0</td>\n",
       "      <td>13.8</td>\n",
       "      <td>2.0</td>\n",
       "      <td>1.0</td>\n",
       "      <td>1.0</td>\n",
       "      <td>0.0</td>\n",
       "      <td>99.0</td>\n",
       "      <td>1992.0</td>\n",
       "      <td>Bayside</td>\n",
       "    </tr>\n",
       "    <tr>\n",
       "      <th>1</th>\n",
       "      <td>3</td>\n",
       "      <td>700000.0</td>\n",
       "      <td>7.9</td>\n",
       "      <td>3.0</td>\n",
       "      <td>2.0</td>\n",
       "      <td>1.0</td>\n",
       "      <td>189.0</td>\n",
       "      <td>110.0</td>\n",
       "      <td>1990.0</td>\n",
       "      <td>Banyule</td>\n",
       "    </tr>\n",
       "    <tr>\n",
       "      <th>2</th>\n",
       "      <td>3</td>\n",
       "      <td>975000.0</td>\n",
       "      <td>12.1</td>\n",
       "      <td>3.0</td>\n",
       "      <td>2.0</td>\n",
       "      <td>1.0</td>\n",
       "      <td>277.0</td>\n",
       "      <td>109.0</td>\n",
       "      <td>1975.0</td>\n",
       "      <td>Glen Eira</td>\n",
       "    </tr>\n",
       "    <tr>\n",
       "      <th>3</th>\n",
       "      <td>3</td>\n",
       "      <td>1290000.0</td>\n",
       "      <td>8.0</td>\n",
       "      <td>3.0</td>\n",
       "      <td>1.0</td>\n",
       "      <td>1.0</td>\n",
       "      <td>618.0</td>\n",
       "      <td>132.0</td>\n",
       "      <td>1960.0</td>\n",
       "      <td>Moonee Valley</td>\n",
       "    </tr>\n",
       "    <tr>\n",
       "      <th>4</th>\n",
       "      <td>2</td>\n",
       "      <td>500000.0</td>\n",
       "      <td>4.2</td>\n",
       "      <td>2.0</td>\n",
       "      <td>1.0</td>\n",
       "      <td>1.0</td>\n",
       "      <td>0.0</td>\n",
       "      <td>86.0</td>\n",
       "      <td>2000.0</td>\n",
       "      <td>Melbourne</td>\n",
       "    </tr>\n",
       "    <tr>\n",
       "      <th>...</th>\n",
       "      <td>...</td>\n",
       "      <td>...</td>\n",
       "      <td>...</td>\n",
       "      <td>...</td>\n",
       "      <td>...</td>\n",
       "      <td>...</td>\n",
       "      <td>...</td>\n",
       "      <td>...</td>\n",
       "      <td>...</td>\n",
       "      <td>...</td>\n",
       "    </tr>\n",
       "    <tr>\n",
       "      <th>805</th>\n",
       "      <td>2</td>\n",
       "      <td>855000.0</td>\n",
       "      <td>11.4</td>\n",
       "      <td>2.0</td>\n",
       "      <td>1.0</td>\n",
       "      <td>1.0</td>\n",
       "      <td>158.0</td>\n",
       "      <td>106.0</td>\n",
       "      <td>1994.0</td>\n",
       "      <td>Glen Eira</td>\n",
       "    </tr>\n",
       "    <tr>\n",
       "      <th>806</th>\n",
       "      <td>2</td>\n",
       "      <td>696000.0</td>\n",
       "      <td>2.6</td>\n",
       "      <td>2.0</td>\n",
       "      <td>2.0</td>\n",
       "      <td>1.0</td>\n",
       "      <td>0.0</td>\n",
       "      <td>68.0</td>\n",
       "      <td>2008.0</td>\n",
       "      <td>Yarra</td>\n",
       "    </tr>\n",
       "    <tr>\n",
       "      <th>807</th>\n",
       "      <td>2</td>\n",
       "      <td>520000.0</td>\n",
       "      <td>9.9</td>\n",
       "      <td>2.0</td>\n",
       "      <td>1.0</td>\n",
       "      <td>1.0</td>\n",
       "      <td>0.0</td>\n",
       "      <td>82.0</td>\n",
       "      <td>2011.0</td>\n",
       "      <td>Moreland</td>\n",
       "    </tr>\n",
       "    <tr>\n",
       "      <th>808</th>\n",
       "      <td>3</td>\n",
       "      <td>815000.0</td>\n",
       "      <td>4.3</td>\n",
       "      <td>3.0</td>\n",
       "      <td>2.0</td>\n",
       "      <td>2.0</td>\n",
       "      <td>198.0</td>\n",
       "      <td>130.0</td>\n",
       "      <td>1990.0</td>\n",
       "      <td>Maribyrnong</td>\n",
       "    </tr>\n",
       "    <tr>\n",
       "      <th>809</th>\n",
       "      <td>3</td>\n",
       "      <td>1302500.0</td>\n",
       "      <td>11.2</td>\n",
       "      <td>3.0</td>\n",
       "      <td>2.0</td>\n",
       "      <td>2.0</td>\n",
       "      <td>0.0</td>\n",
       "      <td>171.0</td>\n",
       "      <td>1993.0</td>\n",
       "      <td>Bayside</td>\n",
       "    </tr>\n",
       "  </tbody>\n",
       "</table>\n",
       "<p>810 rows × 10 columns</p>\n",
       "</div>"
      ],
      "text/plain": [
       "     Rooms      Price  Distance  Bedroom2  Bathroom  Car  Landsize  \\\n",
       "0        2   771000.0      13.8       2.0       1.0  1.0       0.0   \n",
       "1        3   700000.0       7.9       3.0       2.0  1.0     189.0   \n",
       "2        3   975000.0      12.1       3.0       2.0  1.0     277.0   \n",
       "3        3  1290000.0       8.0       3.0       1.0  1.0     618.0   \n",
       "4        2   500000.0       4.2       2.0       1.0  1.0       0.0   \n",
       "..     ...        ...       ...       ...       ...  ...       ...   \n",
       "805      2   855000.0      11.4       2.0       1.0  1.0     158.0   \n",
       "806      2   696000.0       2.6       2.0       2.0  1.0       0.0   \n",
       "807      2   520000.0       9.9       2.0       1.0  1.0       0.0   \n",
       "808      3   815000.0       4.3       3.0       2.0  2.0     198.0   \n",
       "809      3  1302500.0      11.2       3.0       2.0  2.0       0.0   \n",
       "\n",
       "     BuildingArea  YearBuilt    CouncilArea  \n",
       "0            99.0     1992.0        Bayside  \n",
       "1           110.0     1990.0        Banyule  \n",
       "2           109.0     1975.0      Glen Eira  \n",
       "3           132.0     1960.0  Moonee Valley  \n",
       "4            86.0     2000.0      Melbourne  \n",
       "..            ...        ...            ...  \n",
       "805         106.0     1994.0      Glen Eira  \n",
       "806          68.0     2008.0          Yarra  \n",
       "807          82.0     2011.0       Moreland  \n",
       "808         130.0     1990.0    Maribyrnong  \n",
       "809         171.0     1993.0        Bayside  \n",
       "\n",
       "[810 rows x 10 columns]"
      ]
     },
     "execution_count": 10,
     "metadata": {},
     "output_type": "execute_result"
    }
   ],
   "source": [
    "df = pd.read_csv('melb_tree_train.csv')\n",
    "s_y = df['Type']\n",
    "df_X = df.drop(['Type'], axis = 1)\n",
    "df_X"
   ]
  },
  {
   "cell_type": "markdown",
   "metadata": {},
   "source": [
    "## Q2 Define the entropy function\n",
    "Implement a function `calc_entropy` that takes the labels series, s_y, as a parameter. Implement using the definition on p128 in the DM book and only use pandas and log2 libraries"
   ]
  },
  {
   "cell_type": "code",
   "execution_count": 11,
   "metadata": {},
   "outputs": [],
   "source": [
    "def calc_entropy(labels_series):\n",
    "    total = len(labels_series)\n",
    "    t_total = 0\n",
    "    u_total = 0\n",
    "    h_total = 0\n",
    "    for i in range(total):\n",
    "        if labels_series[i] == 't':\n",
    "            t_total += 1\n",
    "        elif labels_series[i] == 'u':\n",
    "            u_total+= 1\n",
    "        elif labels_series[i] == 'h':\n",
    "            h_total += 1\n",
    "    t_frac = t_total/total\n",
    "    u_frac = u_total/total\n",
    "    h_frac = h_total/total\n",
    "    \n",
    "    entropy = -t_frac*log2(t_frac) - u_frac*log2(u_frac) - h_frac*log2(h_frac)\n",
    "    return (entropy)"
   ]
  },
  {
   "cell_type": "markdown",
   "metadata": {},
   "source": [
    "## Q3 Use the entropy function to\n",
    "  - (a) Calculate the entropy of the entire training set\n",
    "  - (b) Calculate the entropy of the three partitions formed from \n",
    "    * Landsize $\\in$ [0,200]\n",
    "    * Landsize $\\in$ (200,450]\n",
    "    * Landsize $\\in$ (450, $\\infty$)"
   ]
  },
  {
   "cell_type": "code",
   "execution_count": 12,
   "metadata": {},
   "outputs": [
    {
     "data": {
      "text/plain": [
       "1.5825333114261775"
      ]
     },
     "execution_count": 12,
     "metadata": {},
     "output_type": "execute_result"
    }
   ],
   "source": [
    "# calculating entropy of the entire training set\n",
    "calc_entropy(s_y)"
   ]
  },
  {
   "cell_type": "code",
   "execution_count": 28,
   "metadata": {},
   "outputs": [
    {
     "data": {
      "text/plain": [
       "0      t\n",
       "1      t\n",
       "2      u\n",
       "3      t\n",
       "4      u\n",
       "      ..\n",
       "376    t\n",
       "377    u\n",
       "378    t\n",
       "379    t\n",
       "380    h\n",
       "Name: Type, Length: 381, dtype: object"
      ]
     },
     "execution_count": 28,
     "metadata": {},
     "output_type": "execute_result"
    }
   ],
   "source": [
    "# calculating entropy for landsize [0,200]\n",
    "landsize_0_200 = df[df['Landsize'] <= 200]\n",
    "s_y_0_200 = landsize_0_200['Type']\n",
    "\n",
    "s_y_0_200.index = list(i for i in range(len(s_y_0_200)))\n",
    "\n",
    "s_y_0_200\n",
    "# calc_entropy(s_y_0_200)\n"
   ]
  },
  {
   "cell_type": "code",
   "execution_count": 36,
   "metadata": {},
   "outputs": [
    {
     "data": {
      "text/plain": [
       "0      u\n",
       "1      t\n",
       "2      h\n",
       "3      t\n",
       "4      t\n",
       "      ..\n",
       "216    h\n",
       "217    t\n",
       "218    t\n",
       "219    u\n",
       "220    t\n",
       "Name: Type, Length: 221, dtype: object"
      ]
     },
     "execution_count": 36,
     "metadata": {},
     "output_type": "execute_result"
    }
   ],
   "source": [
    "# calculating entropy for landsize (200, 450]\n",
    "temp = df[df['Landsize'] <= 450]\n",
    "landsize_200_450 = temp[temp['Landsize'] > 200]\n",
    "s_y_200_450 = landsize_200_450['Type']\n",
    "s_y_200_450\n",
    "s_y_200_450.index = list(i for i in range(len(s_y_200_450)))\n",
    "s_y_200_450\n",
    "# calc_entropy(s_y_200_450)\n"
   ]
  },
  {
   "cell_type": "code",
   "execution_count": 15,
   "metadata": {},
   "outputs": [
    {
     "data": {
      "text/plain": [
       "1.09954792005911"
      ]
     },
     "execution_count": 15,
     "metadata": {},
     "output_type": "execute_result"
    }
   ],
   "source": [
    "# calculating entropy for landsize [450, INF]\n",
    "landsize_450_INF = df[df['Landsize'] > 450]\n",
    "s_y_450_INF = landsize_450_INF['Type']\n",
    "s_y_450_INF.index = list(i for i in range(len(s_y_450_INF)))\n",
    "calc_entropy(s_y_450_INF)"
   ]
  },
  {
   "cell_type": "markdown",
   "metadata": {},
   "source": [
    "## Q4 Define the Gini Index\n",
    "Implement the function `calc_gini` that takes the labels series, s_y, as a parameter. Implement using the definition on p128 in the DM book.  Use only pandas library"
   ]
  },
  {
   "cell_type": "code",
   "execution_count": 16,
   "metadata": {},
   "outputs": [],
   "source": [
    "def calc_gini(labels_series):\n",
    "    total = len(labels_series)\n",
    "    t_total = 0\n",
    "    u_total = 0\n",
    "    h_total = 0\n",
    "    for i in range(total):\n",
    "        if labels_series[i] == 't':\n",
    "            t_total += 1\n",
    "        elif labels_series[i] == 'u':\n",
    "            u_total+= 1\n",
    "        elif labels_series[i] == 'h':\n",
    "            h_total += 1\n",
    "    t_frac = t_total/total\n",
    "    u_frac = u_total/total\n",
    "    h_frac = h_total/total\n",
    "    \n",
    "    gini = 1-((t_frac**2) + (u_frac)**2 + (h_frac**2))\n",
    "    return (gini)"
   ]
  },
  {
   "cell_type": "markdown",
   "metadata": {},
   "source": [
    "## Q5 Use the Gini Index function to\n",
    "  - (a) Calculate the Gini index of the entire training set\n",
    "  - (b) Calculate the Gini index of the three partitions formed from \n",
    "    * Landsize $\\in$ [0,200]\n",
    "    * Landsize $\\in$ (200,450]\n",
    "    * Landsize $\\in$ (450, $\\infty$)"
   ]
  },
  {
   "cell_type": "code",
   "execution_count": 17,
   "metadata": {},
   "outputs": [
    {
     "data": {
      "text/plain": [
       "0.6655601280292638"
      ]
     },
     "execution_count": 17,
     "metadata": {},
     "output_type": "execute_result"
    }
   ],
   "source": [
    "# entire training set\n",
    "calc_gini(s_y)"
   ]
  },
  {
   "cell_type": "code",
   "execution_count": 18,
   "metadata": {},
   "outputs": [
    {
     "data": {
      "text/plain": [
       "0.5741211482422965"
      ]
     },
     "execution_count": 18,
     "metadata": {},
     "output_type": "execute_result"
    }
   ],
   "source": [
    "# landsize [0,200]\n",
    "calc_gini(s_y_0_200)"
   ]
  },
  {
   "cell_type": "code",
   "execution_count": 19,
   "metadata": {},
   "outputs": [
    {
     "data": {
      "text/plain": [
       "0.6101021682602731"
      ]
     },
     "execution_count": 19,
     "metadata": {},
     "output_type": "execute_result"
    }
   ],
   "source": [
    "# landsize (200,450]\n",
    "calc_gini(s_y_200_450)"
   ]
  },
  {
   "cell_type": "code",
   "execution_count": 20,
   "metadata": {},
   "outputs": [
    {
     "data": {
      "text/plain": [
       "0.43819341715976323"
      ]
     },
     "execution_count": 20,
     "metadata": {},
     "output_type": "execute_result"
    }
   ],
   "source": [
    "# landsize (450, INF)\n",
    "calc_gini(s_y_450_INF)"
   ]
  },
  {
   "cell_type": "markdown",
   "metadata": {},
   "source": [
    "## Q6 Create a decision tree \n",
    "Using [scikit-learn](https://scikit-learn.org/stable/modules/tree.html#tree) create a multi class classifer for the data set using the Entropy impurity measure and a max depth of 3\n",
    "\n",
    "Note that scikit-learn's algorithm doesn't handle categorical data, so that needs to be preprocessed using an one hot encoding.\n",
    "\n",
    "Display the tree using `export_text` from sklearn.tree, and use that information to write some descriptive analytics on the classification of houses.  For extra fun, use the export_graphviz to draw the graph (see documentation on the [scikit-learn webpage](https://scikit-learn.org/stable/modules/tree.html#classification)).  If you are on a Windows system and get stuck reach out in the homework channel to see if anyone else could get it working for tips and tricks.  If enough people with Windows can't make the visualization, I won't count it toward the homework grade."
   ]
  },
  {
   "cell_type": "code",
   "execution_count": 31,
   "metadata": {},
   "outputs": [
    {
     "data": {
      "text/plain": [
       "DecisionTreeClassifier(criterion='entropy', max_depth=3)"
      ]
     },
     "execution_count": 31,
     "metadata": {},
     "output_type": "execute_result"
    }
   ],
   "source": [
    "# # # using entropy impurity\n",
    "# # # max depth is 3\n",
    "\n",
    "#Make the x training set:\n",
    "councilarea_ohe = pd.get_dummies(df_X['CouncilArea'])\n",
    "df_sk = pd.concat([df_X,councilarea_ohe],axis = 1)\n",
    "df_sk = df_sk.drop(['CouncilArea'],axis = 1)\n",
    "\n",
    "\n",
    "\n",
    "#Make the tree:\n",
    "decision_tree = tree.DecisionTreeClassifier(criterion = 'entropy', max_depth = 3)\n",
    "\n",
    "\n",
    "decision_tree = decision_tree.fit(df_sk,s_y)\n",
    "decision_tree"
   ]
  },
  {
   "cell_type": "code",
   "execution_count": 22,
   "metadata": {},
   "outputs": [
    {
     "name": "stdout",
     "output_type": "stream",
     "text": [
      "|--- YearBuilt <= 1977.50\n",
      "|   |--- Rooms <= 2.50\n",
      "|   |   |--- Price <= 915000.00\n",
      "|   |   |   |--- weights: [9.00, 7.00, 134.00] class: u\n",
      "|   |   |--- Price >  915000.00\n",
      "|   |   |   |--- weights: [24.00, 3.00, 5.00] class: h\n",
      "|   |--- Rooms >  2.50\n",
      "|   |   |--- Landsize <= 429.00\n",
      "|   |   |   |--- weights: [47.00, 10.00, 12.00] class: h\n",
      "|   |   |--- Landsize >  429.00\n",
      "|   |   |   |--- weights: [114.00, 3.00, 2.00] class: h\n",
      "|--- YearBuilt >  1977.50\n",
      "|   |--- BuildingArea <= 104.31\n",
      "|   |   |--- Landsize <= 76.00\n",
      "|   |   |   |--- weights: [0.00, 8.00, 60.00] class: u\n",
      "|   |   |--- Landsize >  76.00\n",
      "|   |   |   |--- weights: [5.00, 41.00, 31.00] class: t\n",
      "|   |--- BuildingArea >  104.31\n",
      "|   |   |--- Landsize <= 391.00\n",
      "|   |   |   |--- weights: [18.00, 194.00, 33.00] class: t\n",
      "|   |   |--- Landsize >  391.00\n",
      "|   |   |   |--- weights: [31.00, 15.00, 4.00] class: h\n",
      "\n"
     ]
    }
   ],
   "source": [
    "cols = list(col for col in df_sk.columns)\n",
    "tree_graph = tree.export_text(decision_tree, feature_names = cols,max_depth = 3,show_weights = True)\n",
    "print(tree_graph)"
   ]
  },
  {
   "cell_type": "code",
   "execution_count": 23,
   "metadata": {},
   "outputs": [
    {
     "data": {
      "image/svg+xml": [
       "<?xml version=\"1.0\" encoding=\"UTF-8\" standalone=\"no\"?>\r\n",
       "<!DOCTYPE svg PUBLIC \"-//W3C//DTD SVG 1.1//EN\"\r\n",
       " \"http://www.w3.org/Graphics/SVG/1.1/DTD/svg11.dtd\">\r\n",
       "<!-- Generated by graphviz version 2.38.0 (20140413.2041)\r\n",
       " -->\r\n",
       "<!-- Title: Tree Pages: 1 -->\r\n",
       "<svg width=\"1094pt\" height=\"373pt\"\r\n",
       " viewBox=\"0.00 0.00 1094.00 373.00\" xmlns=\"http://www.w3.org/2000/svg\" xmlns:xlink=\"http://www.w3.org/1999/xlink\">\r\n",
       "<g id=\"graph0\" class=\"graph\" transform=\"scale(1 1) rotate(0) translate(4 369)\">\r\n",
       "<title>Tree</title>\r\n",
       "<polygon fill=\"white\" stroke=\"none\" points=\"-4,4 -4,-369 1090,-369 1090,4 -4,4\"/>\r\n",
       "<!-- 0 -->\r\n",
       "<g id=\"node1\" class=\"node\"><title>0</title>\r\n",
       "<polygon fill=\"#ffffff\" stroke=\"black\" points=\"609.5,-365 463.5,-365 463.5,-297 609.5,-297 609.5,-365\"/>\r\n",
       "<text text-anchor=\"middle\" x=\"536.5\" y=\"-349.8\" font-family=\"Times New Roman,serif\" font-size=\"14.00\">YearBuilt &lt;= 1977.5</text>\r\n",
       "<text text-anchor=\"middle\" x=\"536.5\" y=\"-334.8\" font-family=\"Times New Roman,serif\" font-size=\"14.00\">entropy = 1.583</text>\r\n",
       "<text text-anchor=\"middle\" x=\"536.5\" y=\"-319.8\" font-family=\"Times New Roman,serif\" font-size=\"14.00\">samples = 810</text>\r\n",
       "<text text-anchor=\"middle\" x=\"536.5\" y=\"-304.8\" font-family=\"Times New Roman,serif\" font-size=\"14.00\">value = [248, 281, 281]</text>\r\n",
       "</g>\r\n",
       "<!-- 1 -->\r\n",
       "<g id=\"node2\" class=\"node\"><title>1</title>\r\n",
       "<polygon fill=\"#fae7da\" stroke=\"black\" points=\"500,-261 361,-261 361,-193 500,-193 500,-261\"/>\r\n",
       "<text text-anchor=\"middle\" x=\"430.5\" y=\"-245.8\" font-family=\"Times New Roman,serif\" font-size=\"14.00\">Rooms &lt;= 2.5</text>\r\n",
       "<text text-anchor=\"middle\" x=\"430.5\" y=\"-230.8\" font-family=\"Times New Roman,serif\" font-size=\"14.00\">entropy = 1.264</text>\r\n",
       "<text text-anchor=\"middle\" x=\"430.5\" y=\"-215.8\" font-family=\"Times New Roman,serif\" font-size=\"14.00\">samples = 370</text>\r\n",
       "<text text-anchor=\"middle\" x=\"430.5\" y=\"-200.8\" font-family=\"Times New Roman,serif\" font-size=\"14.00\">value = [194, 23, 153]</text>\r\n",
       "</g>\r\n",
       "<!-- 0&#45;&gt;1 -->\r\n",
       "<g id=\"edge1\" class=\"edge\"><title>0&#45;&gt;1</title>\r\n",
       "<path fill=\"none\" stroke=\"black\" d=\"M502.085,-296.884C492.643,-287.798 482.3,-277.845 472.485,-268.4\"/>\r\n",
       "<polygon fill=\"black\" stroke=\"black\" points=\"474.738,-265.711 465.105,-261.299 469.884,-270.755 474.738,-265.711\"/>\r\n",
       "<text text-anchor=\"middle\" x=\"465.586\" y=\"-282.595\" font-family=\"Times New Roman,serif\" font-size=\"14.00\">True</text>\r\n",
       "</g>\r\n",
       "<!-- 8 -->\r\n",
       "<g id=\"node9\" class=\"node\"><title>8</title>\r\n",
       "<polygon fill=\"#adf4ca\" stroke=\"black\" points=\"722,-261 565,-261 565,-193 722,-193 722,-261\"/>\r\n",
       "<text text-anchor=\"middle\" x=\"643.5\" y=\"-245.8\" font-family=\"Times New Roman,serif\" font-size=\"14.00\">BuildingArea &lt;= 104.315</text>\r\n",
       "<text text-anchor=\"middle\" x=\"643.5\" y=\"-230.8\" font-family=\"Times New Roman,serif\" font-size=\"14.00\">entropy = 1.341</text>\r\n",
       "<text text-anchor=\"middle\" x=\"643.5\" y=\"-215.8\" font-family=\"Times New Roman,serif\" font-size=\"14.00\">samples = 440</text>\r\n",
       "<text text-anchor=\"middle\" x=\"643.5\" y=\"-200.8\" font-family=\"Times New Roman,serif\" font-size=\"14.00\">value = [54, 258, 128]</text>\r\n",
       "</g>\r\n",
       "<!-- 0&#45;&gt;8 -->\r\n",
       "<g id=\"edge8\" class=\"edge\"><title>0&#45;&gt;8</title>\r\n",
       "<path fill=\"none\" stroke=\"black\" d=\"M571.24,-296.884C580.771,-287.798 591.211,-277.845 601.119,-268.4\"/>\r\n",
       "<polygon fill=\"black\" stroke=\"black\" points=\"603.745,-270.733 608.568,-261.299 598.915,-265.666 603.745,-270.733\"/>\r\n",
       "<text text-anchor=\"middle\" x=\"607.97\" y=\"-282.592\" font-family=\"Times New Roman,serif\" font-size=\"14.00\">False</text>\r\n",
       "</g>\r\n",
       "<!-- 2 -->\r\n",
       "<g id=\"node3\" class=\"node\"><title>2</title>\r\n",
       "<polygon fill=\"#a572ed\" stroke=\"black\" points=\"259.5,-157 127.5,-157 127.5,-89 259.5,-89 259.5,-157\"/>\r\n",
       "<text text-anchor=\"middle\" x=\"193.5\" y=\"-141.8\" font-family=\"Times New Roman,serif\" font-size=\"14.00\">Price &lt;= 915000.0</text>\r\n",
       "<text text-anchor=\"middle\" x=\"193.5\" y=\"-126.8\" font-family=\"Times New Roman,serif\" font-size=\"14.00\">entropy = 0.974</text>\r\n",
       "<text text-anchor=\"middle\" x=\"193.5\" y=\"-111.8\" font-family=\"Times New Roman,serif\" font-size=\"14.00\">samples = 182</text>\r\n",
       "<text text-anchor=\"middle\" x=\"193.5\" y=\"-96.8\" font-family=\"Times New Roman,serif\" font-size=\"14.00\">value = [33, 10, 139]</text>\r\n",
       "</g>\r\n",
       "<!-- 1&#45;&gt;2 -->\r\n",
       "<g id=\"edge2\" class=\"edge\"><title>1&#45;&gt;2</title>\r\n",
       "<path fill=\"none\" stroke=\"black\" d=\"M360.994,-196.086C332.154,-183.674 298.615,-169.239 269.157,-156.561\"/>\r\n",
       "<polygon fill=\"black\" stroke=\"black\" points=\"270.317,-153.25 259.748,-152.512 267.55,-159.68 270.317,-153.25\"/>\r\n",
       "</g>\r\n",
       "<!-- 5 -->\r\n",
       "<g id=\"node6\" class=\"node\"><title>5</title>\r\n",
       "<polygon fill=\"#e99558\" stroke=\"black\" points=\"496.5,-157 364.5,-157 364.5,-89 496.5,-89 496.5,-157\"/>\r\n",
       "<text text-anchor=\"middle\" x=\"430.5\" y=\"-141.8\" font-family=\"Times New Roman,serif\" font-size=\"14.00\">Landsize &lt;= 429.0</text>\r\n",
       "<text text-anchor=\"middle\" x=\"430.5\" y=\"-126.8\" font-family=\"Times New Roman,serif\" font-size=\"14.00\">entropy = 0.737</text>\r\n",
       "<text text-anchor=\"middle\" x=\"430.5\" y=\"-111.8\" font-family=\"Times New Roman,serif\" font-size=\"14.00\">samples = 188</text>\r\n",
       "<text text-anchor=\"middle\" x=\"430.5\" y=\"-96.8\" font-family=\"Times New Roman,serif\" font-size=\"14.00\">value = [161, 13, 14]</text>\r\n",
       "</g>\r\n",
       "<!-- 1&#45;&gt;5 -->\r\n",
       "<g id=\"edge5\" class=\"edge\"><title>1&#45;&gt;5</title>\r\n",
       "<path fill=\"none\" stroke=\"black\" d=\"M430.5,-192.884C430.5,-184.778 430.5,-175.982 430.5,-167.472\"/>\r\n",
       "<polygon fill=\"black\" stroke=\"black\" points=\"434,-167.299 430.5,-157.299 427,-167.299 434,-167.299\"/>\r\n",
       "</g>\r\n",
       "<!-- 3 -->\r\n",
       "<g id=\"node4\" class=\"node\"><title>3</title>\r\n",
       "<polygon fill=\"#8f4fe8\" stroke=\"black\" points=\"119,-53 -7.10543e-015,-53 -7.10543e-015,-0 119,-0 119,-53\"/>\r\n",
       "<text text-anchor=\"middle\" x=\"59.5\" y=\"-37.8\" font-family=\"Times New Roman,serif\" font-size=\"14.00\">entropy = 0.595</text>\r\n",
       "<text text-anchor=\"middle\" x=\"59.5\" y=\"-22.8\" font-family=\"Times New Roman,serif\" font-size=\"14.00\">samples = 150</text>\r\n",
       "<text text-anchor=\"middle\" x=\"59.5\" y=\"-7.8\" font-family=\"Times New Roman,serif\" font-size=\"14.00\">value = [9, 7, 134]</text>\r\n",
       "</g>\r\n",
       "<!-- 2&#45;&gt;3 -->\r\n",
       "<g id=\"edge3\" class=\"edge\"><title>2&#45;&gt;3</title>\r\n",
       "<path fill=\"none\" stroke=\"black\" d=\"M146.633,-88.9485C132.883,-79.2516 117.886,-68.6752 104.27,-59.073\"/>\r\n",
       "<polygon fill=\"black\" stroke=\"black\" points=\"106.184,-56.1397 95.9944,-53.2367 102.149,-61.8603 106.184,-56.1397\"/>\r\n",
       "</g>\r\n",
       "<!-- 4 -->\r\n",
       "<g id=\"node5\" class=\"node\"><title>4</title>\r\n",
       "<polygon fill=\"#eda674\" stroke=\"black\" points=\"249.5,-53 137.5,-53 137.5,-0 249.5,-0 249.5,-53\"/>\r\n",
       "<text text-anchor=\"middle\" x=\"193.5\" y=\"-37.8\" font-family=\"Times New Roman,serif\" font-size=\"14.00\">entropy = 1.05</text>\r\n",
       "<text text-anchor=\"middle\" x=\"193.5\" y=\"-22.8\" font-family=\"Times New Roman,serif\" font-size=\"14.00\">samples = 32</text>\r\n",
       "<text text-anchor=\"middle\" x=\"193.5\" y=\"-7.8\" font-family=\"Times New Roman,serif\" font-size=\"14.00\">value = [24, 3, 5]</text>\r\n",
       "</g>\r\n",
       "<!-- 2&#45;&gt;4 -->\r\n",
       "<g id=\"edge4\" class=\"edge\"><title>2&#45;&gt;4</title>\r\n",
       "<path fill=\"none\" stroke=\"black\" d=\"M193.5,-88.9485C193.5,-80.7153 193.5,-71.848 193.5,-63.4814\"/>\r\n",
       "<polygon fill=\"black\" stroke=\"black\" points=\"197,-63.2367 193.5,-53.2367 190,-63.2367 197,-63.2367\"/>\r\n",
       "</g>\r\n",
       "<!-- 6 -->\r\n",
       "<g id=\"node7\" class=\"node\"><title>6</title>\r\n",
       "<polygon fill=\"#efb285\" stroke=\"black\" points=\"393,-53 268,-53 268,-0 393,-0 393,-53\"/>\r\n",
       "<text text-anchor=\"middle\" x=\"330.5\" y=\"-37.8\" font-family=\"Times New Roman,serif\" font-size=\"14.00\">entropy = 1.22</text>\r\n",
       "<text text-anchor=\"middle\" x=\"330.5\" y=\"-22.8\" font-family=\"Times New Roman,serif\" font-size=\"14.00\">samples = 69</text>\r\n",
       "<text text-anchor=\"middle\" x=\"330.5\" y=\"-7.8\" font-family=\"Times New Roman,serif\" font-size=\"14.00\">value = [47, 10, 12]</text>\r\n",
       "</g>\r\n",
       "<!-- 5&#45;&gt;6 -->\r\n",
       "<g id=\"edge6\" class=\"edge\"><title>5&#45;&gt;6</title>\r\n",
       "<path fill=\"none\" stroke=\"black\" d=\"M395.525,-88.9485C385.651,-79.6175 374.915,-69.4722 365.065,-60.1641\"/>\r\n",
       "<polygon fill=\"black\" stroke=\"black\" points=\"367.407,-57.5613 357.735,-53.2367 362.599,-62.649 367.407,-57.5613\"/>\r\n",
       "</g>\r\n",
       "<!-- 7 -->\r\n",
       "<g id=\"node8\" class=\"node\"><title>7</title>\r\n",
       "<polygon fill=\"#e68642\" stroke=\"black\" points=\"530,-53 411,-53 411,-0 530,-0 530,-53\"/>\r\n",
       "<text text-anchor=\"middle\" x=\"470.5\" y=\"-37.8\" font-family=\"Times New Roman,serif\" font-size=\"14.00\">entropy = 0.292</text>\r\n",
       "<text text-anchor=\"middle\" x=\"470.5\" y=\"-22.8\" font-family=\"Times New Roman,serif\" font-size=\"14.00\">samples = 119</text>\r\n",
       "<text text-anchor=\"middle\" x=\"470.5\" y=\"-7.8\" font-family=\"Times New Roman,serif\" font-size=\"14.00\">value = [114, 3, 2]</text>\r\n",
       "</g>\r\n",
       "<!-- 5&#45;&gt;7 -->\r\n",
       "<g id=\"edge7\" class=\"edge\"><title>5&#45;&gt;7</title>\r\n",
       "<path fill=\"none\" stroke=\"black\" d=\"M444.49,-88.9485C448.091,-80.4408 451.979,-71.2562 455.623,-62.6464\"/>\r\n",
       "<polygon fill=\"black\" stroke=\"black\" points=\"458.931,-63.81 459.606,-53.2367 452.485,-61.0814 458.931,-63.81\"/>\r\n",
       "</g>\r\n",
       "<!-- 9 -->\r\n",
       "<g id=\"node10\" class=\"node\"><title>9</title>\r\n",
       "<polygon fill=\"#c8a8f4\" stroke=\"black\" points=\"703,-157 584,-157 584,-89 703,-89 703,-157\"/>\r\n",
       "<text text-anchor=\"middle\" x=\"643.5\" y=\"-141.8\" font-family=\"Times New Roman,serif\" font-size=\"14.00\">Landsize &lt;= 76.0</text>\r\n",
       "<text text-anchor=\"middle\" x=\"643.5\" y=\"-126.8\" font-family=\"Times New Roman,serif\" font-size=\"14.00\">entropy = 1.118</text>\r\n",
       "<text text-anchor=\"middle\" x=\"643.5\" y=\"-111.8\" font-family=\"Times New Roman,serif\" font-size=\"14.00\">samples = 145</text>\r\n",
       "<text text-anchor=\"middle\" x=\"643.5\" y=\"-96.8\" font-family=\"Times New Roman,serif\" font-size=\"14.00\">value = [5, 49, 91]</text>\r\n",
       "</g>\r\n",
       "<!-- 8&#45;&gt;9 -->\r\n",
       "<g id=\"edge9\" class=\"edge\"><title>8&#45;&gt;9</title>\r\n",
       "<path fill=\"none\" stroke=\"black\" d=\"M643.5,-192.884C643.5,-184.778 643.5,-175.982 643.5,-167.472\"/>\r\n",
       "<polygon fill=\"black\" stroke=\"black\" points=\"647,-167.299 643.5,-157.299 640,-167.299 647,-167.299\"/>\r\n",
       "</g>\r\n",
       "<!-- 12 -->\r\n",
       "<g id=\"node13\" class=\"node\"><title>12</title>\r\n",
       "<polygon fill=\"#7eeead\" stroke=\"black\" points=\"948.5,-157 816.5,-157 816.5,-89 948.5,-89 948.5,-157\"/>\r\n",
       "<text text-anchor=\"middle\" x=\"882.5\" y=\"-141.8\" font-family=\"Times New Roman,serif\" font-size=\"14.00\">Landsize &lt;= 391.0</text>\r\n",
       "<text text-anchor=\"middle\" x=\"882.5\" y=\"-126.8\" font-family=\"Times New Roman,serif\" font-size=\"14.00\">entropy = 1.158</text>\r\n",
       "<text text-anchor=\"middle\" x=\"882.5\" y=\"-111.8\" font-family=\"Times New Roman,serif\" font-size=\"14.00\">samples = 295</text>\r\n",
       "<text text-anchor=\"middle\" x=\"882.5\" y=\"-96.8\" font-family=\"Times New Roman,serif\" font-size=\"14.00\">value = [49, 209, 37]</text>\r\n",
       "</g>\r\n",
       "<!-- 8&#45;&gt;12 -->\r\n",
       "<g id=\"edge12\" class=\"edge\"><title>8&#45;&gt;12</title>\r\n",
       "<path fill=\"none\" stroke=\"black\" d=\"M721.096,-192.884C748.53,-181.176 779.337,-168.028 806.626,-156.382\"/>\r\n",
       "<polygon fill=\"black\" stroke=\"black\" points=\"808.296,-159.474 816.12,-152.33 805.549,-153.036 808.296,-159.474\"/>\r\n",
       "</g>\r\n",
       "<!-- 10 -->\r\n",
       "<g id=\"node11\" class=\"node\"><title>10</title>\r\n",
       "<polygon fill=\"#9253e8\" stroke=\"black\" points=\"660.5,-53 548.5,-53 548.5,-0 660.5,-0 660.5,-53\"/>\r\n",
       "<text text-anchor=\"middle\" x=\"604.5\" y=\"-37.8\" font-family=\"Times New Roman,serif\" font-size=\"14.00\">entropy = 0.523</text>\r\n",
       "<text text-anchor=\"middle\" x=\"604.5\" y=\"-22.8\" font-family=\"Times New Roman,serif\" font-size=\"14.00\">samples = 68</text>\r\n",
       "<text text-anchor=\"middle\" x=\"604.5\" y=\"-7.8\" font-family=\"Times New Roman,serif\" font-size=\"14.00\">value = [0, 8, 60]</text>\r\n",
       "</g>\r\n",
       "<!-- 9&#45;&gt;10 -->\r\n",
       "<g id=\"edge10\" class=\"edge\"><title>9&#45;&gt;10</title>\r\n",
       "<path fill=\"none\" stroke=\"black\" d=\"M629.86,-88.9485C626.349,-80.4408 622.558,-71.2562 619.005,-62.6464\"/>\r\n",
       "<polygon fill=\"black\" stroke=\"black\" points=\"622.172,-61.1452 615.121,-53.2367 615.701,-63.8157 622.172,-61.1452\"/>\r\n",
       "</g>\r\n",
       "<!-- 11 -->\r\n",
       "<g id=\"node12\" class=\"node\"><title>11</title>\r\n",
       "<polygon fill=\"#d4f9e4\" stroke=\"black\" points=\"798,-53 679,-53 679,-0 798,-0 798,-53\"/>\r\n",
       "<text text-anchor=\"middle\" x=\"738.5\" y=\"-37.8\" font-family=\"Times New Roman,serif\" font-size=\"14.00\">entropy = 1.269</text>\r\n",
       "<text text-anchor=\"middle\" x=\"738.5\" y=\"-22.8\" font-family=\"Times New Roman,serif\" font-size=\"14.00\">samples = 77</text>\r\n",
       "<text text-anchor=\"middle\" x=\"738.5\" y=\"-7.8\" font-family=\"Times New Roman,serif\" font-size=\"14.00\">value = [5, 41, 31]</text>\r\n",
       "</g>\r\n",
       "<!-- 9&#45;&gt;11 -->\r\n",
       "<g id=\"edge11\" class=\"edge\"><title>9&#45;&gt;11</title>\r\n",
       "<path fill=\"none\" stroke=\"black\" d=\"M676.726,-88.9485C686.015,-79.709 696.106,-69.671 705.388,-60.4381\"/>\r\n",
       "<polygon fill=\"black\" stroke=\"black\" points=\"708.006,-62.7705 712.627,-53.2367 703.069,-57.8077 708.006,-62.7705\"/>\r\n",
       "</g>\r\n",
       "<!-- 13 -->\r\n",
       "<g id=\"node14\" class=\"node\"><title>13</title>\r\n",
       "<polygon fill=\"#69eb9f\" stroke=\"black\" points=\"948.5,-53 816.5,-53 816.5,-0 948.5,-0 948.5,-53\"/>\r\n",
       "<text text-anchor=\"middle\" x=\"882.5\" y=\"-37.8\" font-family=\"Times New Roman,serif\" font-size=\"14.00\">entropy = 0.933</text>\r\n",
       "<text text-anchor=\"middle\" x=\"882.5\" y=\"-22.8\" font-family=\"Times New Roman,serif\" font-size=\"14.00\">samples = 245</text>\r\n",
       "<text text-anchor=\"middle\" x=\"882.5\" y=\"-7.8\" font-family=\"Times New Roman,serif\" font-size=\"14.00\">value = [18, 194, 33]</text>\r\n",
       "</g>\r\n",
       "<!-- 12&#45;&gt;13 -->\r\n",
       "<g id=\"edge13\" class=\"edge\"><title>12&#45;&gt;13</title>\r\n",
       "<path fill=\"none\" stroke=\"black\" d=\"M882.5,-88.9485C882.5,-80.7153 882.5,-71.848 882.5,-63.4814\"/>\r\n",
       "<polygon fill=\"black\" stroke=\"black\" points=\"886,-63.2367 882.5,-53.2367 879,-63.2367 886,-63.2367\"/>\r\n",
       "</g>\r\n",
       "<!-- 14 -->\r\n",
       "<g id=\"node15\" class=\"node\"><title>14</title>\r\n",
       "<polygon fill=\"#f3c5a4\" stroke=\"black\" points=\"1086,-53 967,-53 967,-0 1086,-0 1086,-53\"/>\r\n",
       "<text text-anchor=\"middle\" x=\"1026.5\" y=\"-37.8\" font-family=\"Times New Roman,serif\" font-size=\"14.00\">entropy = 1.24</text>\r\n",
       "<text text-anchor=\"middle\" x=\"1026.5\" y=\"-22.8\" font-family=\"Times New Roman,serif\" font-size=\"14.00\">samples = 50</text>\r\n",
       "<text text-anchor=\"middle\" x=\"1026.5\" y=\"-7.8\" font-family=\"Times New Roman,serif\" font-size=\"14.00\">value = [31, 15, 4]</text>\r\n",
       "</g>\r\n",
       "<!-- 12&#45;&gt;14 -->\r\n",
       "<g id=\"edge14\" class=\"edge\"><title>12&#45;&gt;14</title>\r\n",
       "<path fill=\"none\" stroke=\"black\" d=\"M932.864,-88.9485C947.78,-79.1601 964.061,-68.4756 978.803,-58.8015\"/>\r\n",
       "<polygon fill=\"black\" stroke=\"black\" points=\"980.842,-61.6495 987.282,-53.2367 977.001,-55.7971 980.842,-61.6495\"/>\r\n",
       "</g>\r\n",
       "</g>\r\n",
       "</svg>\r\n"
      ],
      "text/plain": [
       "<graphviz.files.Source at 0x2b2ad7ef850>"
      ]
     },
     "execution_count": 23,
     "metadata": {},
     "output_type": "execute_result"
    }
   ],
   "source": [
    "data=tree.export_graphviz(decision_tree, out_file=None,filled=True,feature_names=cols)\n",
    "graph_new = graphviz.Source(data)\n",
    "graph_new"
   ]
  },
  {
   "cell_type": "markdown",
   "metadata": {},
   "source": [
    "Markdown explaination here"
   ]
  },
  {
   "cell_type": "markdown",
   "metadata": {},
   "source": [
    "## Q7 Calculate the Accuracy and Display Learning Curve\n",
    "Load in the test data.\n",
    "\n",
    "Use the scikit-learn library to create decision trees with the following configurations\n",
    "\n",
    "    - Vary the max depth from 2 to 15 with the Gini Index as the impurity measure\n",
    "    - Vary the max depth from 2 to 15 with the Entropy as the impurity measure\n",
    "\n",
    "\n",
    "Evaluate the accuracy of each decision tree with both the \n",
    "  - Training set\n",
    "  - Test set\n",
    "\n",
    "Display the results graphicaly, and offer an analysis of the trend (or if no trend present, offer a hypotheisis of why).  The max depth should be on the x-axis, and the error rate should be on the y-axis (see figure 3.23 in your DM textbook for a similar style of graph that uses leaf nodes instead of depth for the x-axis)."
   ]
  },
  {
   "cell_type": "code",
   "execution_count": 24,
   "metadata": {},
   "outputs": [],
   "source": [
    "df_q7 = pd.read_csv('melb_tree_test.csv')\n",
    "type_q7 = df_q7['Type']\n",
    "df_q7 = df_q7.drop(['Type'],axis = 1)\n",
    "council_ohe_q7 = pd.get_dummies(df_q7['CouncilArea'])\n",
    "df_q7_final = pd.concat([df_q7,council_ohe_q7],axis = 1)\n",
    "df_q7_final = df_q7_final.drop(['CouncilArea'],axis = 1)\n",
    "\n",
    "max_dep_Gini = [2,3,4,5,6,7,8,9,10,11,12,13,14,15]\n",
    "max_dep_Entropy = [2,3,4,5,6,7,8,9,10,11,12,13,14,15]\n",
    "\n",
    "entropy_test = []\n",
    "gini_test = []\n",
    "entropy_training = []\n",
    "gini_training = []\n",
    "\n",
    "for gini in max_dep_Gini:\n",
    "    \n",
    "#     decision_tree_gini_test = tree.DecisionTreeClassifier(criterion = 'gini', max_depth = gini)\n",
    "#     decision_tree_gini_test = decision_tree_gini_test.fit(df_q7_final,type_q7)\n",
    "    \n",
    "    decision_tree_gini_training = tree.DecisionTreeClassifier(criterion = 'gini', max_depth = gini)\n",
    "    decision_tree_gini_training = decision_tree_gini_training.fit(df_sk,s_y)\n",
    "    \n",
    "    decision_tree_gini_test_predicted = decision_tree_gini_training.predict(df_q7_final)\n",
    "    decision_tree_gini_train_predicted = decision_tree_gini_training.predict(df_sk)\n",
    "    \n",
    "    counter_gini_test = 0\n",
    "    counter_gini_train = 0\n",
    "    \n",
    "    for x in range(len(type_q7)):\n",
    "        if type_q7[x] == decision_tree_gini_test_predicted[x]:\n",
    "            counter_gini_test += 1\n",
    "            \n",
    "    gini_test_accuracy = counter_gini_test/len(type_q7)\n",
    "    gini_test_error = 1-gini_test_accuracy\n",
    "    gini_test.append(gini_test_error)\n",
    "            \n",
    "    for y in range(len(s_y)):\n",
    "        if s_y[y] == decision_tree_gini_train_predicted[y]:\n",
    "            counter_gini_train += 1\n",
    "    \n",
    "    gini_train_accuracy = counter_gini_train/len(s_y)\n",
    "    gini_train_error = 1-gini_train_accuracy\n",
    "    gini_training.append(gini_train_error)\n",
    "    \n",
    "    \n",
    "for entropy in max_dep_Gini:\n",
    "    \n",
    "#     decision_tree_entropy_test = tree.DecisionTreeClassifier(criterion = 'entropy', max_depth = entropy)\n",
    "#     decision_tree_entropy_test = decision_tree_entropy_test.fit(df_q7_final,type_q7)\n",
    "    \n",
    "    decision_tree_entropy_training = tree.DecisionTreeClassifier(criterion = 'entropy', max_depth = entropy)\n",
    "    decision_tree_entropy_training = decision_tree_entropy_training.fit(df_sk,s_y)\n",
    "    \n",
    "    decision_tree_entropy_test_predicted = decision_tree_entropy_training.predict(df_q7_final)\n",
    "    decision_tree_entropy_train_predicted = decision_tree_entropy_training.predict(df_sk)\n",
    "    \n",
    "    counter_entropy_test = 0\n",
    "    counter_entropy_train = 0\n",
    "    \n",
    "    for x in range(len(type_q7)):\n",
    "        if type_q7[x] == decision_tree_entropy_test_predicted[x]:\n",
    "            counter_entropy_test += 1\n",
    "            \n",
    "    entropy_test_accuracy = counter_entropy_test/len(type_q7)\n",
    "    entropy_test_error = 1-entropy_test_accuracy\n",
    "    entropy_test.append(entropy_test_error)\n",
    "            \n",
    "    for y in range(len(s_y)):\n",
    "        if s_y[y] == decision_tree_entropy_train_predicted[y]:\n",
    "            counter_entropy_train += 1\n",
    "    \n",
    "    entropy_train_accuracy = counter_entropy_train/len(s_y)\n",
    "    entropy_train_error = 1-entropy_train_accuracy\n",
    "    entropy_training.append(entropy_train_error)\n"
   ]
  },
  {
   "cell_type": "code",
   "execution_count": 25,
   "metadata": {},
   "outputs": [
    {
     "data": {
      "text/plain": [
       "<matplotlib.legend.Legend at 0x2b2adeedf10>"
      ]
     },
     "execution_count": 25,
     "metadata": {},
     "output_type": "execute_result"
    },
    {
     "data": {
      "image/png": "[encoded data removed]",
      "text/plain": [
       "<Figure size 432x288 with 1 Axes>"
      ]
     },
     "metadata": {
      "needs_background": "light"
     },
     "output_type": "display_data"
    }
   ],
   "source": [
    "x = [2,3,4,5,6,7,8,9,10,11,12,13,14,15]\n",
    "\n",
    "plt.plot(x,gini_test,color='blue',label = 'gini_test')\n",
    "plt.plot(x,gini_training,color='red',label = 'gini_training')\n",
    "plt.plot(x,entropy_test,color='black',label = 'entropy_test')\n",
    "plt.plot(x,entropy_training,color='orange',label = 'entropy_training')\n",
    "\n",
    "\n",
    "plt.xlabel('Depth')\n",
    "plt.ylabel('Error')\n",
    "\n",
    "plt.legend()"
   ]
  },
  {
   "cell_type": "code",
   "execution_count": 26,
   "metadata": {},
   "outputs": [],
   "source": [
    "#Analysis of graph\n",
    "#As maximum depth of tree increases, error rate in the training set decreases\n",
    "#As maximum depth of tree increases, error rate in the test set increases slightly. \n",
    "#The optimal depth appears to be about 3-4"
   ]
  }
 ],
 "metadata": {
  "kernelspec": {
   "display_name": "Python 3",
   "language": "python",
   "name": "python3"
  },
  "language_info": {
   "codemirror_mode": {
    "name": "ipython",
    "version": 3
   },
   "file_extension": ".py",
   "mimetype": "text/x-python",
   "name": "python",
   "nbconvert_exporter": "python",
   "pygments_lexer": "ipython3",
   "version": "3.8.3"
  }
 },
 "nbformat": 4,
 "nbformat_minor": 4
}
